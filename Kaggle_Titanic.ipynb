{
 "cells": [
  {
   "cell_type": "markdown",
   "metadata": {},
   "source": [
    "# Kaggle Titanic Machine Learning Challenge\n",
    "Katy Fallows, August 24, 2017"
   ]
  },
  {
   "cell_type": "markdown",
   "metadata": {
    "collapsed": true
   },
   "source": [
    "This code builds a simple support vector machine model to estimate the survival of individual Titanic passengers, using the Kaggle data set.  "
   ]
  },
  {
   "cell_type": "code",
   "execution_count": 119,
   "metadata": {
    "collapsed": true
   },
   "outputs": [],
   "source": [
    "import numpy as np\n",
    "import matplotlib.pyplot as plt\n",
    "import pandas as pd\n",
    "import scipy\n",
    "from sklearn.svm import SVC\n",
    "from sklearn.model_selection import GridSearchCV, cross_val_score\n",
    "from sklearn.metrics import precision_recall_curve, auc\n",
    "\n",
    "# read in training data set\n",
    "trainfile = 'C:/Users/Katy/Documents/Jupyter/Cadent Benchmark/train.csv'\n",
    "alldata = pd.read_csv(trainfile)"
   ]
  },
  {
   "cell_type": "markdown",
   "metadata": {},
   "source": [
    "# Feature Engineering \n",
    "\n",
    "Read in and reformat the Titanic data set from Kaggle. The male/female category is replaced with 1/0 respectively, for use with the sklearn package, and a subset of available fields are selected as features. For missing data in the \"Ages\" field, the mean of the entire dataset is filled in as a rough first estimate."
   ]
  },
  {
   "cell_type": "code",
   "execution_count": 120,
   "metadata": {},
   "outputs": [
    {
     "data": {
      "text/html": [
       "<div>\n",
       "<style>\n",
       "    .dataframe thead tr:only-child th {\n",
       "        text-align: right;\n",
       "    }\n",
       "\n",
       "    .dataframe thead th {\n",
       "        text-align: left;\n",
       "    }\n",
       "\n",
       "    .dataframe tbody tr th {\n",
       "        vertical-align: top;\n",
       "    }\n",
       "</style>\n",
       "<table border=\"1\" class=\"dataframe\">\n",
       "  <thead>\n",
       "    <tr style=\"text-align: right;\">\n",
       "      <th></th>\n",
       "      <th>PassengerId</th>\n",
       "      <th>Survived</th>\n",
       "      <th>Pclass</th>\n",
       "      <th>Name</th>\n",
       "      <th>Sex</th>\n",
       "      <th>Age</th>\n",
       "      <th>SibSp</th>\n",
       "      <th>Parch</th>\n",
       "      <th>Ticket</th>\n",
       "      <th>Fare</th>\n",
       "      <th>Cabin</th>\n",
       "      <th>Embarked</th>\n",
       "      <th>Sex_num</th>\n",
       "      <th>Age_Norm</th>\n",
       "      <th>Fare_Norm</th>\n",
       "    </tr>\n",
       "  </thead>\n",
       "  <tbody>\n",
       "    <tr>\n",
       "      <th>0</th>\n",
       "      <td>1</td>\n",
       "      <td>0</td>\n",
       "      <td>3</td>\n",
       "      <td>Braund, Mr. Owen Harris</td>\n",
       "      <td>male</td>\n",
       "      <td>22.0</td>\n",
       "      <td>1</td>\n",
       "      <td>0</td>\n",
       "      <td>A/5 21171</td>\n",
       "      <td>7.2500</td>\n",
       "      <td>NaN</td>\n",
       "      <td>S</td>\n",
       "      <td>1</td>\n",
       "      <td>0.740763</td>\n",
       "      <td>0.225126</td>\n",
       "    </tr>\n",
       "    <tr>\n",
       "      <th>1</th>\n",
       "      <td>2</td>\n",
       "      <td>1</td>\n",
       "      <td>1</td>\n",
       "      <td>Cumings, Mrs. John Bradley (Florence Briggs Th...</td>\n",
       "      <td>female</td>\n",
       "      <td>38.0</td>\n",
       "      <td>1</td>\n",
       "      <td>0</td>\n",
       "      <td>PC 17599</td>\n",
       "      <td>71.2833</td>\n",
       "      <td>C85</td>\n",
       "      <td>C</td>\n",
       "      <td>0</td>\n",
       "      <td>1.279499</td>\n",
       "      <td>2.213478</td>\n",
       "    </tr>\n",
       "    <tr>\n",
       "      <th>2</th>\n",
       "      <td>3</td>\n",
       "      <td>1</td>\n",
       "      <td>3</td>\n",
       "      <td>Heikkinen, Miss. Laina</td>\n",
       "      <td>female</td>\n",
       "      <td>26.0</td>\n",
       "      <td>0</td>\n",
       "      <td>0</td>\n",
       "      <td>STON/O2. 3101282</td>\n",
       "      <td>7.9250</td>\n",
       "      <td>NaN</td>\n",
       "      <td>S</td>\n",
       "      <td>0</td>\n",
       "      <td>0.875447</td>\n",
       "      <td>0.246086</td>\n",
       "    </tr>\n",
       "    <tr>\n",
       "      <th>3</th>\n",
       "      <td>4</td>\n",
       "      <td>1</td>\n",
       "      <td>1</td>\n",
       "      <td>Futrelle, Mrs. Jacques Heath (Lily May Peel)</td>\n",
       "      <td>female</td>\n",
       "      <td>35.0</td>\n",
       "      <td>1</td>\n",
       "      <td>0</td>\n",
       "      <td>113803</td>\n",
       "      <td>53.1000</td>\n",
       "      <td>C123</td>\n",
       "      <td>S</td>\n",
       "      <td>0</td>\n",
       "      <td>1.178486</td>\n",
       "      <td>1.648853</td>\n",
       "    </tr>\n",
       "    <tr>\n",
       "      <th>4</th>\n",
       "      <td>5</td>\n",
       "      <td>0</td>\n",
       "      <td>3</td>\n",
       "      <td>Allen, Mr. William Henry</td>\n",
       "      <td>male</td>\n",
       "      <td>35.0</td>\n",
       "      <td>0</td>\n",
       "      <td>0</td>\n",
       "      <td>373450</td>\n",
       "      <td>8.0500</td>\n",
       "      <td>NaN</td>\n",
       "      <td>S</td>\n",
       "      <td>1</td>\n",
       "      <td>1.178486</td>\n",
       "      <td>0.249967</td>\n",
       "    </tr>\n",
       "  </tbody>\n",
       "</table>\n",
       "</div>"
      ],
      "text/plain": [
       "   PassengerId  Survived  Pclass  \\\n",
       "0            1         0       3   \n",
       "1            2         1       1   \n",
       "2            3         1       3   \n",
       "3            4         1       1   \n",
       "4            5         0       3   \n",
       "\n",
       "                                                Name     Sex   Age  SibSp  \\\n",
       "0                            Braund, Mr. Owen Harris    male  22.0      1   \n",
       "1  Cumings, Mrs. John Bradley (Florence Briggs Th...  female  38.0      1   \n",
       "2                             Heikkinen, Miss. Laina  female  26.0      0   \n",
       "3       Futrelle, Mrs. Jacques Heath (Lily May Peel)  female  35.0      1   \n",
       "4                           Allen, Mr. William Henry    male  35.0      0   \n",
       "\n",
       "   Parch            Ticket     Fare Cabin Embarked  Sex_num  Age_Norm  \\\n",
       "0      0         A/5 21171   7.2500   NaN        S        1  0.740763   \n",
       "1      0          PC 17599  71.2833   C85        C        0  1.279499   \n",
       "2      0  STON/O2. 3101282   7.9250   NaN        S        0  0.875447   \n",
       "3      0            113803  53.1000  C123        S        0  1.178486   \n",
       "4      0            373450   8.0500   NaN        S        1  1.178486   \n",
       "\n",
       "   Fare_Norm  \n",
       "0   0.225126  \n",
       "1   2.213478  \n",
       "2   0.246086  \n",
       "3   1.648853  \n",
       "4   0.249967  "
      ]
     },
     "execution_count": 120,
     "metadata": {},
     "output_type": "execute_result"
    }
   ],
   "source": [
    "# Replace string categories with numeric categories, fill in missing data, and normalize numerical data\n",
    "alldata['Sex_num'] = pd.Categorical(alldata['Sex']).codes\n",
    "alldata['Age'].fillna(np.nanmean(alldata['Age']),inplace=True)\n",
    "alldata['Age_Norm'] = alldata['Age']/np.mean(alldata['Age'])\n",
    "alldata['Fare_Norm'] = alldata['Fare']/np.mean(alldata['Fare'])\n",
    "\n",
    "alldata.head()"
   ]
  },
  {
   "cell_type": "code",
   "execution_count": 121,
   "metadata": {},
   "outputs": [
    {
     "data": {
      "text/html": [
       "<div>\n",
       "<style>\n",
       "    .dataframe thead tr:only-child th {\n",
       "        text-align: right;\n",
       "    }\n",
       "\n",
       "    .dataframe thead th {\n",
       "        text-align: left;\n",
       "    }\n",
       "\n",
       "    .dataframe tbody tr th {\n",
       "        vertical-align: top;\n",
       "    }\n",
       "</style>\n",
       "<table border=\"1\" class=\"dataframe\">\n",
       "  <thead>\n",
       "    <tr style=\"text-align: right;\">\n",
       "      <th></th>\n",
       "      <th>Pclass</th>\n",
       "      <th>Age_Norm</th>\n",
       "      <th>Sex_num</th>\n",
       "      <th>SibSp</th>\n",
       "      <th>Parch</th>\n",
       "    </tr>\n",
       "  </thead>\n",
       "  <tbody>\n",
       "    <tr>\n",
       "      <th>0</th>\n",
       "      <td>3</td>\n",
       "      <td>0.740763</td>\n",
       "      <td>1</td>\n",
       "      <td>1</td>\n",
       "      <td>0</td>\n",
       "    </tr>\n",
       "    <tr>\n",
       "      <th>1</th>\n",
       "      <td>1</td>\n",
       "      <td>1.279499</td>\n",
       "      <td>0</td>\n",
       "      <td>1</td>\n",
       "      <td>0</td>\n",
       "    </tr>\n",
       "    <tr>\n",
       "      <th>2</th>\n",
       "      <td>3</td>\n",
       "      <td>0.875447</td>\n",
       "      <td>0</td>\n",
       "      <td>0</td>\n",
       "      <td>0</td>\n",
       "    </tr>\n",
       "    <tr>\n",
       "      <th>3</th>\n",
       "      <td>1</td>\n",
       "      <td>1.178486</td>\n",
       "      <td>0</td>\n",
       "      <td>1</td>\n",
       "      <td>0</td>\n",
       "    </tr>\n",
       "    <tr>\n",
       "      <th>4</th>\n",
       "      <td>3</td>\n",
       "      <td>1.178486</td>\n",
       "      <td>1</td>\n",
       "      <td>0</td>\n",
       "      <td>0</td>\n",
       "    </tr>\n",
       "  </tbody>\n",
       "</table>\n",
       "</div>"
      ],
      "text/plain": [
       "   Pclass  Age_Norm  Sex_num  SibSp  Parch\n",
       "0       3  0.740763        1      1      0\n",
       "1       1  1.279499        0      1      0\n",
       "2       3  0.875447        0      0      0\n",
       "3       1  1.178486        0      1      0\n",
       "4       3  1.178486        1      0      0"
      ]
     },
     "execution_count": 121,
     "metadata": {},
     "output_type": "execute_result"
    }
   ],
   "source": [
    "# Split out a final testing set. The Kaggle test set is not labeled, so need to pull it from here.\n",
    "\n",
    "m = alldata.shape[0]\n",
    "testm = int(0.2*m)\n",
    "\n",
    "testdata = alldata.iloc[0:testm,:]\n",
    "traindata = alldata.iloc[testm:,:]\n",
    "\n",
    "X = traindata[['Pclass','Age_Norm','Sex_num','SibSp','Parch']]\n",
    "y = traindata['Survived']\n",
    "X_test = testdata[['Pclass','Age_Norm','Sex_num','SibSp','Parch']]\n",
    "y_test = testdata['Survived']\n",
    "\n",
    "#check the data arrays\n",
    "X_test.head()"
   ]
  },
  {
   "cell_type": "code",
   "execution_count": 122,
   "metadata": {},
   "outputs": [
    {
     "data": {
      "text/html": [
       "<div>\n",
       "<style>\n",
       "    .dataframe thead tr:only-child th {\n",
       "        text-align: right;\n",
       "    }\n",
       "\n",
       "    .dataframe thead th {\n",
       "        text-align: left;\n",
       "    }\n",
       "\n",
       "    .dataframe tbody tr th {\n",
       "        vertical-align: top;\n",
       "    }\n",
       "</style>\n",
       "<table border=\"1\" class=\"dataframe\">\n",
       "  <thead>\n",
       "    <tr style=\"text-align: right;\">\n",
       "      <th></th>\n",
       "      <th>Pclass</th>\n",
       "      <th>Age_Norm</th>\n",
       "      <th>Sex_num</th>\n",
       "      <th>SibSp</th>\n",
       "      <th>Parch</th>\n",
       "    </tr>\n",
       "  </thead>\n",
       "  <tbody>\n",
       "    <tr>\n",
       "      <th>178</th>\n",
       "      <td>2</td>\n",
       "      <td>1.010131</td>\n",
       "      <td>1</td>\n",
       "      <td>0</td>\n",
       "      <td>0</td>\n",
       "    </tr>\n",
       "    <tr>\n",
       "      <th>179</th>\n",
       "      <td>3</td>\n",
       "      <td>1.212157</td>\n",
       "      <td>1</td>\n",
       "      <td>0</td>\n",
       "      <td>0</td>\n",
       "    </tr>\n",
       "    <tr>\n",
       "      <th>180</th>\n",
       "      <td>3</td>\n",
       "      <td>1.000000</td>\n",
       "      <td>0</td>\n",
       "      <td>8</td>\n",
       "      <td>2</td>\n",
       "    </tr>\n",
       "    <tr>\n",
       "      <th>181</th>\n",
       "      <td>2</td>\n",
       "      <td>1.000000</td>\n",
       "      <td>1</td>\n",
       "      <td>0</td>\n",
       "      <td>0</td>\n",
       "    </tr>\n",
       "    <tr>\n",
       "      <th>182</th>\n",
       "      <td>3</td>\n",
       "      <td>0.303039</td>\n",
       "      <td>1</td>\n",
       "      <td>4</td>\n",
       "      <td>2</td>\n",
       "    </tr>\n",
       "  </tbody>\n",
       "</table>\n",
       "</div>"
      ],
      "text/plain": [
       "     Pclass  Age_Norm  Sex_num  SibSp  Parch\n",
       "178       2  1.010131        1      0      0\n",
       "179       3  1.212157        1      0      0\n",
       "180       3  1.000000        0      8      2\n",
       "181       2  1.000000        1      0      0\n",
       "182       3  0.303039        1      4      2"
      ]
     },
     "execution_count": 122,
     "metadata": {},
     "output_type": "execute_result"
    }
   ],
   "source": [
    "X.head() "
   ]
  },
  {
   "cell_type": "markdown",
   "metadata": {},
   "source": [
    "# Train Model\n",
    "\n",
    "Train a SVM with a Gaussian kernel, which is a good general-purpose machine learning algorithm that does not necessarily make assumptions about linear relationships like logistic regression.  The number of features and records are small/moderate, so a an algorithm specialized for large quantities of data or minimizing computation time are not necessary.\n",
    "\n",
    "The model parameters are optimized and generalized accuracy is estimated using nested cross validation with stratified k-folds. "
   ]
  },
  {
   "cell_type": "code",
   "execution_count": 123,
   "metadata": {
    "collapsed": true
   },
   "outputs": [],
   "source": [
    "# Support vector machine model\n",
    "model = SVC(kernel=\"rbf\")\n",
    "\n",
    "# C: regularization term (high C - more smoothing, low C - more curvature in decision boundary)\n",
    "# gamma: controls range of influence of a single data point (high gamma - short range, low gamma - long range) \n",
    "p_grid = {\"C\": [0.1, 0.3, 1, 3, 10, 30, 100, 300, 1000],\n",
    "          \"gamma\": [0.001, 0.003, 0.01, 0.03, 0.1, 0.3, 1.0]}\n",
    "\n",
    "# Inner loop: tune model parameters by running k-fold cross valtidation on each permutation of parameters in p_grid; fit\n",
    "clf = GridSearchCV(estimator=model, param_grid=p_grid, cv=5).fit(X,y)"
   ]
  },
  {
   "cell_type": "code",
   "execution_count": 124,
   "metadata": {},
   "outputs": [
    {
     "name": "stdout",
     "output_type": "stream",
     "text": [
      "Parameters with best accuracy score: {'C': 30, 'gamma': 0.1}\n"
     ]
    }
   ],
   "source": [
    "print('Parameters with best accuracy score: '+str(clf.best_params_))"
   ]
  },
  {
   "cell_type": "code",
   "execution_count": 125,
   "metadata": {},
   "outputs": [
    {
     "name": "stdout",
     "output_type": "stream",
     "text": [
      "Best accuracy score: 0.822\n"
     ]
    }
   ],
   "source": [
    "print('Best accuracy score: '+'{:5.3f}'.format(clf.best_score_))"
   ]
  },
  {
   "cell_type": "code",
   "execution_count": 126,
   "metadata": {},
   "outputs": [
    {
     "name": "stdout",
     "output_type": "stream",
     "text": [
      "[ 0.811  0.853  0.776  0.789  0.845]\n"
     ]
    }
   ],
   "source": [
    "# Outer loop: train model with tuned parameters on k subsets to estimate generalized model accuracy \n",
    "cv_scores = cross_val_score(clf, X, y, cv=5, scoring='accuracy')\n",
    "\n",
    "np.set_printoptions(precision=3)\n",
    "print(cv_scores)"
   ]
  },
  {
   "cell_type": "code",
   "execution_count": 127,
   "metadata": {},
   "outputs": [
    {
     "name": "stdout",
     "output_type": "stream",
     "text": [
      "Estimated model accuracy: 0.815\n"
     ]
    }
   ],
   "source": [
    "print('Estimated model accuracy: '+'{:5.3f}'.format(np.mean(cv_scores)))"
   ]
  },
  {
   "cell_type": "markdown",
   "metadata": {},
   "source": [
    "# Model Evaluation"
   ]
  },
  {
   "cell_type": "code",
   "execution_count": 128,
   "metadata": {},
   "outputs": [
    {
     "name": "stdout",
     "output_type": "stream",
     "text": [
      "Testing accuracy: 0.820\n"
     ]
    }
   ],
   "source": [
    "# Predict survival for the reserved test set not unsed in training\n",
    "y_pred = clf.predict(X_test)\n",
    "score_pred = clf.score(X_test,y_test)\n",
    "\n",
    "print('Testing accuracy: '+'{:5.3f}'.format(score_pred))"
   ]
  },
  {
   "cell_type": "markdown",
   "metadata": {},
   "source": [
    "When applied to the reserved test set, the accuracy is nearly the same as was estimated from the nested cross validation.  If it were needed, the match between these two values might be improved by ensuring the reserved test set is a representative sample of the whole data set, rather than just the first 20% of the data table. "
   ]
  },
  {
   "cell_type": "code",
   "execution_count": 131,
   "metadata": {},
   "outputs": [
    {
     "data": {
      "image/png": "[encoded data removed]",
      "text/plain": [
       "<matplotlib.figure.Figure at 0x1b4e073bfd0>"
      ]
     },
     "metadata": {},
     "output_type": "display_data"
    }
   ],
   "source": [
    "# generate a Precision-Recall curve\n",
    "decision_values = clf.decision_function(X_test)\n",
    "precision, recall, thresholds = precision_recall_curve(y_test, decision_values)\n",
    "\n",
    "plt.plot(recall, precision)\n",
    "plt.ylabel('Precision')\n",
    "plt.xlabel('Recall')\n",
    "plt.show()"
   ]
  },
  {
   "cell_type": "code",
   "execution_count": 132,
   "metadata": {},
   "outputs": [
    {
     "name": "stdout",
     "output_type": "stream",
     "text": [
      "Area under R-C curve: 0.765\n"
     ]
    }
   ],
   "source": [
    "the_auc = auc(recall, precision, reorder=True)\n",
    "print('Area under R-C curve: '+'{:5.3f}'.format(the_auc))"
   ]
  },
  {
   "cell_type": "markdown",
   "metadata": {},
   "source": [
    "The area under the curve indicates that the model is significantly better than random (0.50), but far from perfect (1.0)."
   ]
  },
  {
   "cell_type": "markdown",
   "metadata": {},
   "source": [
    "# Avenues for Improvement\n",
    "\n",
    "Minor tweaks, such as adding additional fields from the data set as features and changing the range/resolution of the model tuning parameters do not change the accuracy by more than a few points from 80%.\n",
    "\n",
    "Things to try:\n",
    "* The missing data in the Age column is currently replaced by the average within the whole data set, which likely introduces a fair amount of uncertainty.  A more rigorous way to estimate the missing data, or a different model that handles better data gaps might lessen this.\n",
    "* Other subsets of available features or combinations of features could be tested. PCA could be tested, but may not add much with such a small amount of features.\n",
    "* Other classification schemes could easily be compared: logistic regression, k-Nearest Neighbor, a neural network, etc.\n"
   ]
  },
  {
   "cell_type": "code",
   "execution_count": null,
   "metadata": {
    "collapsed": true
   },
   "outputs": [],
   "source": []
  }
 ],
 "metadata": {
  "kernelspec": {
   "display_name": "Python 3",
   "language": "python",
   "name": "python3"
  },
  "language_info": {
   "codemirror_mode": {
    "name": "ipython",
    "version": 3
   },
   "file_extension": ".py",
   "mimetype": "text/x-python",
   "name": "python",
   "nbconvert_exporter": "python",
   "pygments_lexer": "ipython3",
   "version": "3.6.1"
  }
 },
 "nbformat": 4,
 "nbformat_minor": 2
}
